{
 "cells": [
  {
   "cell_type": "code",
   "execution_count": 1,
   "id": "520beb3b-82c1-4271-a589-7921e8d37287",
   "metadata": {},
   "outputs": [
    {
     "name": "stdout",
     "output_type": "stream",
     "text": [
      "WARNING:tensorflow:From C:\\Users\\wff\\AppData\\Local\\Temp\\ipykernel_6024\\2573402297.py:2: The name tf.disable_v2_behavior is deprecated. Please use tf.compat.v1.disable_v2_behavior instead.\n",
      "\n",
      "WARNING:tensorflow:From C:\\Users\\wff\\AppData\\Local\\Programs\\Python\\Python312\\Lib\\site-packages\\tensorflow\\python\\compat\\v2_compat.py:98: disable_resource_variables (from tensorflow.python.ops.resource_variables_toggle) is deprecated and will be removed in a future version.\n",
      "Instructions for updating:\n",
      "non-resource variables are not supported in the long term\n"
     ]
    }
   ],
   "source": [
    "import tensorflow.compat.v1 as tf\n",
    "tf.disable_v2_behavior()\n",
    "\n",
    "input_data = [[0., 0.], [0., 1.], [1., 0.], [1., 1.]] # XOR input\n",
    "output_data = [[0.], [1.], [1.], [0.]] # XOR output\n",
    "\n",
    "n_input = tf.placeholder(tf.float32, shape=[None, 2], name=\"n_input\")\n",
    "n_output = tf.placeholder(tf.float32, shape=[None, 1], name=\"n_output\")\n",
    "\n",
    "hidden_nodes = 16\n"
   ]
  },
  {
   "cell_type": "code",
   "execution_count": 2,
   "id": "c24fc55f-2baf-47aa-96e3-fcf3bcf4b4ee",
   "metadata": {},
   "outputs": [],
   "source": [
    "b_hidden = tf.Variable(tf.random_normal([hidden_nodes]), name=\"hidden_bias\")\n",
    "W_hidden = tf.Variable(tf.random_normal([2, hidden_nodes]), name=\"hidden_weights\")\n",
    "hidden = tf.sigmoid(tf.matmul(n_input, W_hidden) + b_hidden)\n",
    "\n",
    "W_output = tf.Variable(tf.random_normal([hidden_nodes, 1]), name=\"output_weights\") # output layer’s weight matrix\n",
    "output = tf.sigmoid(tf.matmul(hidden, W_output)) # calc output layer’s activation\n",
    "\n",
    "cross_entropy = tf.square(n_output - output) # simpler, but also works\n"
   ]
  },
  {
   "cell_type": "code",
   "execution_count": 3,
   "id": "4f13921f-0c88-4c8f-8959-d79e9a2d1a15",
   "metadata": {},
   "outputs": [
    {
     "name": "stdout",
     "output_type": "stream",
     "text": [
      "WARNING:tensorflow:From C:\\Users\\wff\\AppData\\Local\\Temp\\ipykernel_6024\\2400177807.py:2: The name tf.train.AdamOptimizer is deprecated. Please use tf.compat.v1.train.AdamOptimizer instead.\n",
      "\n",
      "WARNING:tensorflow:From C:\\Users\\wff\\AppData\\Local\\Programs\\Python\\Python312\\Lib\\site-packages\\tensorflow\\python\\util\\tf_should_use.py:288: initialize_all_variables (from tensorflow.python.ops.variables) is deprecated and will be removed after 2017-03-02.\n",
      "Instructions for updating:\n",
      "Use `tf.global_variables_initializer` instead.\n"
     ]
    },
    {
     "ename": "NameError",
     "evalue": "name 'xrange' is not defined",
     "output_type": "error",
     "traceback": [
      "\u001b[1;31m---------------------------------------------------------------------------\u001b[0m",
      "\u001b[1;31mNameError\u001b[0m                                 Traceback (most recent call last)",
      "Cell \u001b[1;32mIn[3], line 9\u001b[0m\n\u001b[0;32m      6\u001b[0m sess \u001b[38;5;241m=\u001b[39m tf\u001b[38;5;241m.\u001b[39mSession() \u001b[38;5;66;03m# create the session and therefore the graph\u001b[39;00m\n\u001b[0;32m      7\u001b[0m sess\u001b[38;5;241m.\u001b[39mrun(init) \u001b[38;5;66;03m# initialize all variables \u001b[39;00m\n\u001b[1;32m----> 9\u001b[0m \u001b[38;5;28;01mfor\u001b[39;00m epoch \u001b[38;5;129;01min\u001b[39;00m \u001b[43mxrange\u001b[49m(\u001b[38;5;241m0\u001b[39m, \u001b[38;5;241m2001\u001b[39m):\t\u001b[38;5;66;03m# run the training operation\u001b[39;00m\n\u001b[0;32m     10\u001b[0m \tcvalues \u001b[38;5;241m=\u001b[39m sess\u001b[38;5;241m.\u001b[39mrun([train, loss, W_hidden, b_hidden, W_output], feed_dict\u001b[38;5;241m=\u001b[39m{n_input: input_data, n_output: output_data})\n\u001b[0;32m     11\u001b[0m \t\u001b[38;5;28;01mif\u001b[39;00m epoch \u001b[38;5;241m%\u001b[39m \u001b[38;5;241m200\u001b[39m \u001b[38;5;241m==\u001b[39m \u001b[38;5;241m0\u001b[39m:\t\u001b[38;5;66;03m# run the training operation\u001b[39;00m\n",
      "\u001b[1;31mNameError\u001b[0m: name 'xrange' is not defined"
     ]
    }
   ],
   "source": [
    "\n",
    "loss = tf.reduce_mean(cross_entropy) # mean the cross_entropy\n",
    "optimizer = tf.train.AdamOptimizer(0.01) # take a gradient descent for optimizing with a “stepsize” of 0.1\n",
    "train = optimizer.minimize(loss) # let the optimizer train\n",
    "init = tf.initialize_all_variables()\n",
    "\n",
    "sess = tf.Session() # create the session and therefore the graph\n",
    "sess.run(init) # initialize all variables \n",
    "\n",
    "for epoch in range(0, 2001):\t# run the training operation\n",
    "\tcvalues = sess.run([train, loss, W_hidden, b_hidden, W_output], feed_dict={n_input: input_data, n_output: output_data})\n",
    "\tif epoch % 200 == 0:\t# run the training operation\n",
    "\t\tprint(\"\") \n",
    "\t\tprint(\"step: {:>3}\".format(epoch))\n",
    "\t\tprint(\"loss: {}\".format(cvalues[1]))\n",
    "\n",
    "print(\"\")\n",
    "print(\"input: {} | output: {}\".format(input_data[0], sess.run(output, feed_dict={n_input: [input_data[0]]})))\n",
    "print(\"input: {} | output: {}\".format(input_data[1], sess.run(output, feed_dict={n_input: [input_data[1]]}))) \n",
    "print(\"input: {} | output: {}\".format(input_data[2], sess.run(output, feed_dict={n_input: [input_data[2]]}))) \n",
    "print(\"input: {} | output: {}\".format(input_data[3], sess.run(output, feed_dict={n_input: [input_data[3]]})))\n",
    "\n",
    "\n",
    "\n",
    "\n"
   ]
  },
  {
   "cell_type": "code",
   "execution_count": null,
   "id": "e761471e-339d-497a-87d0-94040e483978",
   "metadata": {},
   "outputs": [],
   "source": []
  }
 ],
 "metadata": {
  "kernelspec": {
   "display_name": "Python 3 (ipykernel)",
   "language": "python",
   "name": "python3"
  },
  "language_info": {
   "codemirror_mode": {
    "name": "ipython",
    "version": 3
   },
   "file_extension": ".py",
   "mimetype": "text/x-python",
   "name": "python",
   "nbconvert_exporter": "python",
   "pygments_lexer": "ipython3",
   "version": "3.12.2"
  }
 },
 "nbformat": 4,
 "nbformat_minor": 5
}
