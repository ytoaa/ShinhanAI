{
 "cells": [
  {
   "cell_type": "code",
   "execution_count": 1,
   "id": "520beb3b-82c1-4271-a589-7921e8d37287",
   "metadata": {},
   "outputs": [
    {
     "name": "stdout",
     "output_type": "stream",
     "text": [
      "WARNING:tensorflow:From C:\\Users\\wff\\AppData\\Local\\Temp\\ipykernel_11336\\2573402297.py:2: The name tf.disable_v2_behavior is deprecated. Please use tf.compat.v1.disable_v2_behavior instead.\n",
      "\n",
      "WARNING:tensorflow:From C:\\Users\\wff\\AppData\\Local\\Programs\\Python\\Python312\\Lib\\site-packages\\tensorflow\\python\\compat\\v2_compat.py:98: disable_resource_variables (from tensorflow.python.ops.resource_variables_toggle) is deprecated and will be removed in a future version.\n",
      "Instructions for updating:\n",
      "non-resource variables are not supported in the long term\n"
     ]
    }
   ],
   "source": [
    "import tensorflow.compat.v1 as tf\n",
    "tf.disable_v2_behavior()\n",
    "\n",
    "input_data = [[0., 0.], [0., 1.], [1., 0.], [1., 1.]] # XOR input\n",
    "output_data = [[0.], [1.], [1.], [0.]] # XOR output\n",
    "\n",
    "n_input = tf.placeholder(tf.float32, shape=[None, 2], name=\"n_input\")\n",
    "n_output = tf.placeholder(tf.float32, shape=[None, 1], name=\"n_output\")\n",
    "\n",
    "hidden_nodes = 16\n"
   ]
  },
  {
   "cell_type": "code",
   "execution_count": 2,
   "id": "c24fc55f-2baf-47aa-96e3-fcf3bcf4b4ee",
   "metadata": {},
   "outputs": [],
   "source": [
    "b_hidden = tf.Variable(tf.random_normal([hidden_nodes]), name=\"hidden_bias\")\n",
    "W_hidden = tf.Variable(tf.random_normal([2, hidden_nodes]), name=\"hidden_weights\")\n",
    "hidden = tf.sigmoid(tf.matmul(n_input, W_hidden) + b_hidden)\n",
    "\n",
    "W_output = tf.Variable(tf.random_normal([hidden_nodes, 1]), name=\"output_weights\") # output layer’s weight matrix\n",
    "output = tf.sigmoid(tf.matmul(hidden, W_output)) # calc output layer’s activation\n",
    "\n",
    "cross_entropy = tf.square(n_output - output) # simpler, but also works\n"
   ]
  },
  {
   "cell_type": "code",
   "execution_count": 3,
   "id": "4f13921f-0c88-4c8f-8959-d79e9a2d1a15",
   "metadata": {},
   "outputs": [
    {
     "name": "stdout",
     "output_type": "stream",
     "text": [
      "WARNING:tensorflow:From C:\\Users\\wff\\AppData\\Local\\Temp\\ipykernel_11336\\322134768.py:2: The name tf.train.AdamOptimizer is deprecated. Please use tf.compat.v1.train.AdamOptimizer instead.\n",
      "\n",
      "WARNING:tensorflow:From C:\\Users\\wff\\AppData\\Local\\Programs\\Python\\Python312\\Lib\\site-packages\\tensorflow\\python\\util\\tf_should_use.py:288: initialize_all_variables (from tensorflow.python.ops.variables) is deprecated and will be removed after 2017-03-02.\n",
      "Instructions for updating:\n",
      "Use `tf.global_variables_initializer` instead.\n",
      "\n",
      "step:   0\n",
      "loss: 0.26619139313697815\n",
      "\n",
      "step: 200\n",
      "loss: 0.010716118849813938\n",
      "\n",
      "step: 400\n",
      "loss: 0.001807619584724307\n",
      "\n",
      "step: 600\n",
      "loss: 0.0007416108855977654\n",
      "\n",
      "step: 800\n",
      "loss: 0.00040536915184929967\n",
      "\n",
      "step: 1000\n",
      "loss: 0.0002554036909714341\n",
      "\n",
      "step: 1200\n",
      "loss: 0.00017514073988422751\n",
      "\n",
      "step: 1400\n",
      "loss: 0.00012702737876679748\n",
      "\n",
      "step: 1600\n",
      "loss: 9.58645177888684e-05\n",
      "\n",
      "step: 1800\n",
      "loss: 7.451231067534536e-05\n",
      "\n",
      "step: 2000\n",
      "loss: 5.9245448937872425e-05\n",
      "\n",
      "input: [0.0, 0.0] | output: [[0.00627504]]\n",
      "input: [0.0, 1.0] | output: [[0.99155736]]\n",
      "input: [1.0, 0.0] | output: [[0.9929737]]\n",
      "input: [1.0, 1.0] | output: [[0.00875776]]\n"
     ]
    }
   ],
   "source": [
    "\n",
    "loss = tf.reduce_mean(cross_entropy) # mean the cross_entropy\n",
    "optimizer = tf.train.AdamOptimizer(0.01) # take a gradient descent for optimizing with a “stepsize” of 0.1\n",
    "train = optimizer.minimize(loss) # let the optimizer train\n",
    "init = tf.initialize_all_variables()\n",
    "\n",
    "sess = tf.Session() # create the session and therefore the graph\n",
    "sess.run(init) # initialize all variables \n",
    "\n",
    "for epoch in range(0, 2001):\t# run the training operation\n",
    "\tcvalues = sess.run([train, loss, W_hidden, b_hidden, W_output], feed_dict={n_input: input_data, n_output: output_data})\n",
    "\tif epoch % 200 == 0:\t# run the training operation\n",
    "\t\tprint(\"\") \n",
    "\t\tprint(\"step: {:>3}\".format(epoch))\n",
    "\t\tprint(\"loss: {}\".format(cvalues[1]))\n",
    "\n",
    "print(\"\")\n",
    "print(\"input: {} | output: {}\".format(input_data[0], sess.run(output, feed_dict={n_input: [input_data[0]]})))\n",
    "print(\"input: {} | output: {}\".format(input_data[1], sess.run(output, feed_dict={n_input: [input_data[1]]}))) \n",
    "print(\"input: {} | output: {}\".format(input_data[2], sess.run(output, feed_dict={n_input: [input_data[2]]}))) \n",
    "print(\"input: {} | output: {}\".format(input_data[3], sess.run(output, feed_dict={n_input: [input_data[3]]})))\n",
    "\n",
    "\n",
    "\n",
    "\n"
   ]
  },
  {
   "cell_type": "code",
   "execution_count": null,
   "id": "e761471e-339d-497a-87d0-94040e483978",
   "metadata": {},
   "outputs": [],
   "source": []
  }
 ],
 "metadata": {
  "kernelspec": {
   "display_name": "Python 3 (ipykernel)",
   "language": "python",
   "name": "python3"
  },
  "language_info": {
   "codemirror_mode": {
    "name": "ipython",
    "version": 3
   },
   "file_extension": ".py",
   "mimetype": "text/x-python",
   "name": "python",
   "nbconvert_exporter": "python",
   "pygments_lexer": "ipython3",
   "version": "3.9.13"
  }
 },
 "nbformat": 4,
 "nbformat_minor": 5
}
